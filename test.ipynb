{
 "cells": [
  {
   "cell_type": "markdown",
   "metadata": {},
   "source": [
    "# setup"
   ]
  },
  {
   "cell_type": "code",
   "execution_count": 4,
   "metadata": {
    "collapsed": true
   },
   "outputs": [],
   "source": [
    "import ROOT"
   ]
  },
  {
   "cell_type": "code",
   "execution_count": 2,
   "metadata": {
    "collapsed": true
   },
   "outputs": [],
   "source": [
    "filepath = '/atlas/local/BtagOptimizationNtuples/group.perf-flavtag.410000.PowhegPythiaEvtGen.AOD.e3698_s2997_r8903_r8906.v21-1.db-b5223bf2_Akt4EMTo/group.perf-flavtag.11010668.Akt4EMTo._000001.root'"
   ]
  },
  {
   "cell_type": "code",
   "execution_count": 3,
   "metadata": {
    "collapsed": true
   },
   "outputs": [],
   "source": [
    "rootfile = ROOT.TFile(filepath)\n",
    "roottree = rootfile.Get(\"bTagAntiKt4EMTopoJets\")"
   ]
  },
  {
   "cell_type": "code",
   "execution_count": null,
   "metadata": {
    "collapsed": true
   },
   "outputs": [],
   "source": [
    "import numpy as np\n",
    "from numpy.lib.recfunctions import stack_arrays\n",
    "from root_numpy import root2array, root2rec\n",
    "import glob"
   ]
  },
  {
   "cell_type": "code",
   "execution_count": null,
   "metadata": {
    "collapsed": true
   },
   "outputs": [],
   "source": [
    "data = root2array(filepath)"
   ]
  },
  {
   "cell_type": "code",
   "execution_count": null,
   "metadata": {},
   "outputs": [],
   "source": [
    "print type(data) \n",
    "branches = data.dtype.names\n",
    "print len(data.dtype.names) ##check branch size\n",
    "print data.shape ##check file size"
   ]
  },
  {
   "cell_type": "code",
   "execution_count": null,
   "metadata": {},
   "outputs": [],
   "source": [
    "data[['jet_pt', 'jet_eta', 'jet_phi', 'jet_m']][10]"
   ]
  },
  {
   "cell_type": "code",
   "execution_count": null,
   "metadata": {},
   "outputs": [],
   "source": [
    "data = root2array(filepath, selection='njets>7')\n",
    "data.shape"
   ]
  },
  {
   "cell_type": "code",
   "execution_count": null,
   "metadata": {
    "collapsed": true
   },
   "outputs": [],
   "source": [
    "import pandas as pd\n"
   ]
  },
  {
   "cell_type": "code",
   "execution_count": null,
   "metadata": {
    "collapsed": true
   },
   "outputs": [],
   "source": [
    "df = pd.DataFrame(data)"
   ]
  },
  {
   "cell_type": "code",
   "execution_count": null,
   "metadata": {
    "collapsed": true
   },
   "outputs": [],
   "source": [
    "def root2pandas(files_path, tree_name, **kwargs):\n",
    "    '''\n",
    "    Args:\n",
    "    -----\n",
    "        files_path: a string like './data/*.root', for example\n",
    "        tree_name: a string like 'bTag_AntiKt4EMTopoJets' corresponding to the name of the folder inside the root \n",
    "                   file that we want to open\n",
    "        kwargs: arguments taken by root2array, such as branches to consider, start, stop, step, etc\n",
    "    Returns:\n",
    "    --------    \n",
    "        output_panda: a pandas dataframe like allbkg_df in which all the info from the root file will be stored\n",
    "    \n",
    "    Note:\n",
    "    -----\n",
    "        if you are working with .root files that contain different branches, you might have to mask your data\n",
    "        in that case, return pd.DataFrame(ss.data)\n",
    "    '''\n",
    "    # -- create list of .root files to process\n",
    "    files = glob.glob(files_path)\n",
    "    \n",
    "    # -- process ntuples into rec arrays\n",
    "    ss = stack_arrays([root2array(fpath, tree_name, **kwargs).view(np.recarray) for fpath in files])\n",
    "\n",
    "    try:\n",
    "        return pd.DataFrame(ss)\n",
    "    except Exception:\n",
    "        return pd.DataFrame(ss.data)"
   ]
  },
  {
   "cell_type": "code",
   "execution_count": null,
   "metadata": {
    "collapsed": true
   },
   "outputs": [],
   "source": [
    "df = root2pandas(filepath,\n",
    "           'bTag_AntiKt4EMTopoJets', stop=100)"
   ]
  },
  {
   "cell_type": "code",
   "execution_count": null,
   "metadata": {},
   "outputs": [],
   "source": [
    "df.to_hdf('test_pd.h5', 'data')"
   ]
  },
  {
   "cell_type": "code",
   "execution_count": null,
   "metadata": {
    "collapsed": true
   },
   "outputs": [],
   "source": [
    "new_df = pd.read_hdf('test_pd.h5', 'data')"
   ]
  },
  {
   "cell_type": "code",
   "execution_count": null,
   "metadata": {},
   "outputs": [],
   "source": [
    "new_df"
   ]
  },
  {
   "cell_type": "code",
   "execution_count": null,
   "metadata": {},
   "outputs": [],
   "source": [
    "jf_df = df[[key for key in df.keys() if (key.startswith('jet_jf') and '_vtx_' not in key)]]\n"
   ]
  },
  {
   "cell_type": "code",
   "execution_count": null,
   "metadata": {},
   "outputs": [],
   "source": [
    "jf_df.keys()\n"
   ]
  },
  {
   "cell_type": "code",
   "execution_count": null,
   "metadata": {
    "collapsed": true
   },
   "outputs": [],
   "source": [
    "def flatten(column):\n",
    "    '''\n",
    "    Args:\n",
    "    -----\n",
    "        column: a column of a pandas df whose entries are lists (or regular entries -- in which case nothing is done)\n",
    "                e.g.: my_df['some_variable'] \n",
    "\n",
    "    Returns:\n",
    "    --------    \n",
    "        flattened out version of the column. \n",
    "\n",
    "        For example, it will turn:\n",
    "        [1791, 2719, 1891]\n",
    "        [1717, 1, 0, 171, 9181, 537, 12]\n",
    "        [82, 11]\n",
    "        ...\n",
    "        into:\n",
    "        1791, 2719, 1891, 1717, 1, 0, 171, 9181, 537, 12, 82, 11, ...\n",
    "    '''\n",
    "    try:\n",
    "        return np.array([v for e in column for v in e])\n",
    "    except (TypeError, ValueError):\n",
    "        return column"
   ]
  },
  {
   "cell_type": "code",
   "execution_count": null,
   "metadata": {},
   "outputs": [],
   "source": [
    "jf_df_flat = pd.DataFrame({k: flatten(c) for k, c in jf_df.iteritems()})"
   ]
  },
  {
   "cell_type": "code",
   "execution_count": null,
   "metadata": {
    "collapsed": true
   },
   "outputs": [],
   "source": [
    "import matplotlib\n",
    "import matplotlib.pyplot as plt\n",
    "import matplotlib.cm as cm\n",
    "matplotlib.rcParams.update({'font.size': 16})\n",
    "%matplotlib inline"
   ]
  },
  {
   "cell_type": "code",
   "execution_count": null,
   "metadata": {
    "collapsed": true
   },
   "outputs": [],
   "source": [
    "flavor = flatten(df['jet_LabDr_HadF'])\n",
    "flavor_pids = np.unique(flavor)"
   ]
  },
  {
   "cell_type": "code",
   "execution_count": null,
   "metadata": {},
   "outputs": [],
   "source": [
    "for key in jf_df_flat.keys(): # plot the various variables one by one on different graphs\n",
    "    \n",
    "    # set up your figures\n",
    "    fig = plt.figure(figsize=(8, 6), dpi=100)\n",
    "    # specify ranges and binning strategies that make sense\n",
    "    bins = np.linspace(\n",
    "        min(jf_df_flat[key][jf_df_flat[key]!= -99]), # min\n",
    "        max(jf_df_flat[key]), # max\n",
    "        50 # number of bins\n",
    "    )\n",
    "    # select your favorite matplotlib color palette\n",
    "    color = iter(cm.hsv(np.linspace(0, 0.8, len(flavor_pids))))\n",
    "    # plot the histogram for each flavor using a different color\n",
    "    for k in flavor_pids:\n",
    "        c = next(color)\n",
    "        _ = plt.hist(jf_df_flat[key][flavor == k][jf_df_flat[key]!= -99], \n",
    "                    bins=bins, histtype='step', label='Flavor = {}'.format(k), color=c,\n",
    "                    normed=True)\n",
    "        \n",
    "    # prettify your histograms\n",
    "    plt.xlabel(key)\n",
    "    plt.ylabel('Arbitrary Units')\n",
    "    plt.legend()\n",
    "    plt.show()\n"
   ]
  },
  {
   "cell_type": "code",
   "execution_count": null,
   "metadata": {
    "collapsed": true
   },
   "outputs": [],
   "source": [
    "X = jf_df_flat.as_matrix() # I think this is the same as jf_df_flat.values\n"
   ]
  },
  {
   "cell_type": "code",
   "execution_count": null,
   "metadata": {
    "collapsed": true
   },
   "outputs": [],
   "source": [
    "from sklearn.preprocessing import LabelEncoder"
   ]
  },
  {
   "cell_type": "code",
   "execution_count": null,
   "metadata": {
    "collapsed": true
   },
   "outputs": [],
   "source": [
    "from sklearn.model_selection import train_test_split\n"
   ]
  },
  {
   "cell_type": "code",
   "execution_count": null,
   "metadata": {
    "collapsed": true
   },
   "outputs": [],
   "source": [
    "from sklearn.preprocessing import StandardScaler\n"
   ]
  },
  {
   "cell_type": "code",
   "execution_count": null,
   "metadata": {},
   "outputs": [],
   "source": [
    "le = LabelEncoder()\n",
    "y = le.fit_transform(flavor)"
   ]
  },
  {
   "cell_type": "code",
   "execution_count": null,
   "metadata": {},
   "outputs": [],
   "source": [
    "y"
   ]
  },
  {
   "cell_type": "code",
   "execution_count": null,
   "metadata": {
    "collapsed": true
   },
   "outputs": [],
   "source": [
    "ix = range(X.shape[0]) # array of indices, just to keep track of them for safety reasons and future checks"
   ]
  },
  {
   "cell_type": "code",
   "execution_count": null,
   "metadata": {
    "collapsed": true
   },
   "outputs": [],
   "source": [
    "X_train, X_test, y_train, y_test, ix_train, ix_test = train_test_split(X, y, ix, train_size=0.8)"
   ]
  },
  {
   "cell_type": "code",
   "execution_count": null,
   "metadata": {
    "collapsed": true
   },
   "outputs": [],
   "source": [
    "scaler = StandardScaler()\n",
    "X_train = scaler.fit_transform(X_train)\n",
    "X_test = scaler.transform(X_test)"
   ]
  },
  {
   "cell_type": "code",
   "execution_count": null,
   "metadata": {},
   "outputs": [],
   "source": [
    "X_train"
   ]
  },
  {
   "cell_type": "code",
   "execution_count": null,
   "metadata": {},
   "outputs": [],
   "source": [
    "jf_df.keys()"
   ]
  },
  {
   "cell_type": "code",
   "execution_count": null,
   "metadata": {},
   "outputs": [],
   "source": [
    "from keras.datasets.boston_housing import load_data"
   ]
  },
  {
   "cell_type": "code",
   "execution_count": null,
   "metadata": {},
   "outputs": [],
   "source": [
    "X_train.shape"
   ]
  },
  {
   "cell_type": "code",
   "execution_count": null,
   "metadata": {},
   "outputs": [],
   "source": [
    "y_train.shape"
   ]
  },
  {
   "cell_type": "code",
   "execution_count": null,
   "metadata": {
    "collapsed": true
   },
   "outputs": [],
   "source": [
    "from keras.layers import Dense, Input, Activation\n",
    "from keras.models import Model\n",
    "from keras.utils import plot_model"
   ]
  },
  {
   "cell_type": "code",
   "execution_count": null,
   "metadata": {
    "collapsed": true
   },
   "outputs": [],
   "source": [
    "# we define the input shape (i.e., how many input features) **without** the batch size\n",
    "x = Input(shape=(22, ))\n",
    "\n",
    "# all Keras Ops look like z = f(z) (like functional programming)\n",
    "h = Dense(40)(x)\n",
    "h = Activation('relu')(h)\n",
    "\n",
    "h = Dense(40)(h)\n",
    "h = Activation('relu')(h)\n",
    "\n",
    "# our output is a single number, the house price.\n",
    "y = Dense(1)(h)\n",
    "\n",
    "# A model is a conta\n",
    "net = Model(x, y)"
   ]
  },
  {
   "cell_type": "code",
   "execution_count": null,
   "metadata": {
    "collapsed": true
   },
   "outputs": [],
   "source": [
    "net.compile(optimizer='adam', loss='mse')"
   ]
  },
  {
   "cell_type": "code",
   "execution_count": null,
   "metadata": {
    "collapsed": true
   },
   "outputs": [],
   "source": [
    "from keras.callbacks import ModelCheckpoint, EarlyStopping"
   ]
  },
  {
   "cell_type": "code",
   "execution_count": null,
   "metadata": {
    "collapsed": true
   },
   "outputs": [],
   "source": [
    "callbacks = [\n",
    "    # if we don't have a decrease of the loss for 10 epochs, terminate training.\n",
    "    EarlyStopping(verbose=True, patience=10, monitor='val_loss'), \n",
    "    # Always make sure that we're saving the model weights with the best val loss.\n",
    "    ModelCheckpoint('model.h5', monitor='val_loss', verbose=True, save_best_only=True)]"
   ]
  },
  {
   "cell_type": "code",
   "execution_count": null,
   "metadata": {},
   "outputs": [],
   "source": [
    "history = net.fit(X_train, y_train, validation_split=0.2, epochs=10, verbose=2, callbacks=callbacks)"
   ]
  },
  {
   "cell_type": "code",
   "execution_count": null,
   "metadata": {
    "collapsed": true
   },
   "outputs": [],
   "source": []
  }
 ],
 "metadata": {
  "kernelspec": {
   "display_name": "Python 2",
   "language": "python",
   "name": "python2"
  },
  "language_info": {
   "codemirror_mode": {
    "name": "ipython",
    "version": 2
   },
   "file_extension": ".py",
   "mimetype": "text/x-python",
   "name": "python",
   "nbconvert_exporter": "python",
   "pygments_lexer": "ipython2",
   "version": "2.7.13"
  }
 },
 "nbformat": 4,
 "nbformat_minor": 2
}
